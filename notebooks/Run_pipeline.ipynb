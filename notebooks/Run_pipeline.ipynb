{
 "cells": [
  {
   "cell_type": "code",
   "execution_count": 1,
   "metadata": {},
   "outputs": [
    {
     "name": "stderr",
     "output_type": "stream",
     "text": [
      "[nltk_data] Downloading package stopwords to\n",
      "[nltk_data]     /Users/topper/nltk_data...\n",
      "[nltk_data]   Package stopwords is already up-to-date!\n",
      "[nltk_data] Downloading package stopwords to\n",
      "[nltk_data]     /Users/topper/nltk_data...\n",
      "[nltk_data]   Package stopwords is already up-to-date!\n"
     ]
    }
   ],
   "source": [
    "import os\n",
    "import sys\n",
    "src_dir = os.path.join(os.getcwd(), '..', 'src')\n",
    "sys.path.append(src_dir)\n",
    "\n",
    "import pandas as pd\n",
    "import numpy as np\n",
    "from sklearn.datasets import load_files\n",
    "\n",
    "from datacode.retrieve_data import pull_data\n",
    "from nltk.corpus import stopwords\n",
    "import nltk; nltk.download('stopwords')\n",
    "import gensim.corpora as corpora\n",
    "import spacy\n",
    "from gensim.utils import simple_preprocess\n",
    "from gensim.models import CoherenceModel\n",
    "import gensim\n",
    "\n",
    "from features.pre_process import set_stop_words, sent_to_words, remove_stopwords, bigrams, get_corpus\n",
    "import pickle\n",
    "import warnings\n",
    "from models.text_model import gen_lda_model, train_vectors\n",
    "\n"
   ]
  },
  {
   "cell_type": "code",
   "execution_count": 2,
   "metadata": {},
   "outputs": [],
   "source": [
    "root_dir = os.path.dirname(os.path.dirname(os.path.abspath(\"LICENSE\")))\n",
    "interim_data_path = os.path.join(root_dir, \"data/interim\")\n",
    "processed_data_path = os.path.join(root_dir, \"data/processed\")\n",
    "raw_data_path = os.path.join(root_dir, \"data/raw\")"
   ]
  },
  {
   "cell_type": "code",
   "execution_count": 3,
   "metadata": {},
   "outputs": [],
   "source": [
    "# Pull in training data, split off features and label data and save the features array as a df\n",
    "imdb_train = pull_data(os.path.join(raw_data_path, \"aclImdb/train\"))\n",
    "text_train, y_train = imdb_train.data, imdb_train.target\n",
    "text_train_df = pd.DataFrame({'text': text_train})"
   ]
  },
  {
   "cell_type": "markdown",
   "metadata": {},
   "source": [
    "# SAMPLING STEP - FOR TEST"
   ]
  },
  {
   "cell_type": "code",
   "execution_count": 4,
   "metadata": {},
   "outputs": [],
   "source": [
    "text_train_df_samp = text_train_df.head(1000)"
   ]
  },
  {
   "cell_type": "code",
   "execution_count": 5,
   "metadata": {},
   "outputs": [],
   "source": [
    "# Better to add to a YAML or other text file in due course\n",
    "added_stop_words = ['film','movie','picture','review']"
   ]
  },
  {
   "cell_type": "code",
   "execution_count": 6,
   "metadata": {},
   "outputs": [],
   "source": [
    "# Bringing in a pipeline pre-trained on written web text, includes vocab vectors, syntax and entities. \n",
    "#nlp = spacy.load(\"en_core_web_sm\", disable=['parser', 'ner'])"
   ]
  },
  {
   "cell_type": "code",
   "execution_count": 7,
   "metadata": {},
   "outputs": [],
   "source": [
    "# Run get_corpus which \n",
    "#train_corpus4, train_id2word4, bigram_train4 = get_corpus(text_train_df, added_stop_words)\n",
    "train_corpus4, train_id2word4, bigram_train4 = get_corpus(text_train_df_samp, added_stop_words)  # REVERT AFTER TEST"
   ]
  },
  {
   "cell_type": "code",
   "execution_count": 8,
   "metadata": {},
   "outputs": [],
   "source": [
    "corpus_path = os.path.join(interim_data_path, \"train_corpus4.pkl\")\n",
    "id2word_path = os.path.join(interim_data_path, \"train_id2word4.pkl\")\n",
    "bigram_train_path = os.path.join(interim_data_path, \"bigram_train4.pkl\")"
   ]
  },
  {
   "cell_type": "code",
   "execution_count": 9,
   "metadata": {},
   "outputs": [],
   "source": [
    "# Keep the files\n",
    "with open(corpus_path, 'wb') as f:\n",
    "    pickle.dump(train_corpus4, f)\n",
    "with open(id2word_path, 'wb') as f:\n",
    "    pickle.dump(train_id2word4, f)\n",
    "with open(bigram_train_path, 'wb') as f:\n",
    "    pickle.dump(bigram_train4, f)"
   ]
  },
  {
   "cell_type": "code",
   "execution_count": 10,
   "metadata": {},
   "outputs": [],
   "source": [
    "# Bring in previously stored files \n",
    "with open(corpus_path, 'rb') as f:\n",
    "    train_corpus4 = pickle.load(f)\n",
    "with open(id2word_path, 'rb') as f:\n",
    "    train_id2word4 = pickle.load(f)\n",
    "with open(bigram_train_path, 'rb') as f:\n",
    "    bigram_train4 = pickle.load(f)"
   ]
  },
  {
   "cell_type": "code",
   "execution_count": 11,
   "metadata": {},
   "outputs": [],
   "source": [
    "model_log = os.path.join(processed_data_path, \"logs/lda_model.log\")\n",
    "model_data = os.path.join(processed_data_path, \"model_data/lda_train4.model\")\n",
    "\n",
    "lda_train4 = gen_lda_model(train_corpus4, train_id2word4, model_log, model_data)"
   ]
  },
  {
   "cell_type": "code",
   "execution_count": 12,
   "metadata": {},
   "outputs": [],
   "source": [
    "train_vecs = train_vectors(lda_train4, train_corpus4, text_train_df_samp)"
   ]
  },
  {
   "cell_type": "code",
   "execution_count": null,
   "metadata": {},
   "outputs": [],
   "source": []
  }
 ],
 "metadata": {
  "kernelspec": {
   "display_name": "Python 3",
   "language": "python",
   "name": "python3"
  },
  "language_info": {
   "codemirror_mode": {
    "name": "ipython",
    "version": 3
   },
   "file_extension": ".py",
   "mimetype": "text/x-python",
   "name": "python",
   "nbconvert_exporter": "python",
   "pygments_lexer": "ipython3",
   "version": "3.6.10"
  }
 },
 "nbformat": 4,
 "nbformat_minor": 4
}
